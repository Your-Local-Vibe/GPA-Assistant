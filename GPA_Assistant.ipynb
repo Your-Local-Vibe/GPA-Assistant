{
  "nbformat": 4,
  "nbformat_minor": 0,
  "metadata": {
    "colab": {
      "provenance": []
    },
    "kernelspec": {
      "name": "python3",
      "display_name": "Python 3"
    },
    "language_info": {
      "name": "python"
    }
  },
  "cells": [
    {
      "cell_type": "code",
      "source": [
        "# 1. This is Group 2's AI Assistant simply named \"GPA Assistant\".\n",
        "# The original midterm plan was to develop a Educational Oriented assistent using Simple Rule-Based Systems take in a College students Data and output advice to support them.\n",
        "# For the final the plan has mostly stayed the same but instead centering the data on a Students overall GPA since advice and data would be more consistent that way.\n",
        "\n",
        "# 2. As stated before since the AI Assistant uses live user inputs and is based off the Simple Rule-Based System data collection was not a required concern for our team.\n",
        "\n",
        "# 3. During the developmental process it was chosen for simple responses based on GPA but it was found to be too simplistic or obvious. To counteract this issue the responses of the GPA Assistant were\n",
        "# expanded upon and changed to give better advice or support for students. Not only that but new features were implmented such as a limiter on how many classes the Assistant can remove or add, as well\n",
        "# extra input questions for students that would allow the assistant to give more personalized responses based on a students situation outside of college.\n",
        "\n",
        "# 4. The GPA Assistant is inteded to be used at the beginning of or the end of a semester to give student advice on how they should procede in the school year depending on their previous acedemic achievements.\n",
        "# The actual design of the assistant is a simple imput and response box to give students a quick and efficient process without distractions or confusion.\n",
        "\n",
        "# 5. The Evaluation of our GPA Assistant was quite straightforward, using our current GPA's or asking students around to input their GPA and data for the Assistant record how it responds.\n",
        "# With given feedback the responses were more accurate and streamlined. With reduced inconsistant responses or contridicting advice.\n",
        "\n",
        "# 6. There were numerous challenges faced when developing the GPA Assistant from simple responses, errors, advice that contridicted itself such as adding more classes but reccomenind less and more.\n",
        "# Overall the final was a lesson on trouble shooting and how the most minor definitions can make huge changes on how the assistant interprets them. As well as a lesson on how free and open coding is,\n",
        "# there will always be more feature you can add and build upon. There will always be room for improvement even if you believe you are finished.\n",
        "\n",
        "# 7. No Refrenceses\n"
      ],
      "metadata": {
        "id": "wj2EvJynJUJE"
      },
      "execution_count": null,
      "outputs": []
    },
    {
      "cell_type": "code",
      "execution_count": 15,
      "metadata": {
        "colab": {
          "base_uri": "https://localhost:8080/",
          "height": 0
        },
        "id": "Odska4HX6HLr",
        "outputId": "ebe31348-51dc-44b5-bf58-547368fae604"
      },
      "outputs": [
        {
          "output_type": "stream",
          "name": "stdout",
          "text": [
            "Answer a few questions to receive personalized academic advice.\n",
            "\n",
            "1. Enter your GPA: 3.5\n",
            "2. How many classes are you currently taking? 5\n",
            "3. What is your current stress level? (low / medium / high / very high): low\n",
            "4. Do you have a part time job? (yes / no): yes\n",
            "\n",
            " Advisor's Recommendation:\n",
            "\n",
            "Excellent GPA! You are on a great path!\n",
            "Recommended classes: 6.\n",
            "Consider exploring more academics or groups outside of courses on campus.\n",
            "\n",
            "Low stress is great! It suggests you may handle your current or slightly increased load well.\n",
            "\n",
            "Since you have a part time job, balance is key. Contact your manager about work hours and be cautious with adding extra classes.\n"
          ]
        }
      ],
      "source": [
        "# Defines the factors needed in the Assistant\n",
        "def gpa_advisor(gpa, current_classes, stress_level, part_time_job):\n",
        "    max_classes = 6\n",
        "    recommendations = []\n",
        "\n",
        "# Depending on user input, the Assistant will give a simple rule based output, and advice the corellates with the users GPA.\n",
        "    if gpa >= 4.0:\n",
        "        recommended = min(max_classes, current_classes + 2)\n",
        "        recommendations.append(\n",
        "            f\"Outstanding GPA! You are excelling in your academics!\\n\"\n",
        "            f\"Recommended classes: {recommended}.\\n\"\n",
        "            f\"If you have the grit, it is recommended that you increase your courses to maximize your potential. \"\n",
        "            f\"Alternatively, it would be beneficial to begin researching opportunities or internships.\"\n",
        "        )\n",
        "    elif gpa >= 3.5:\n",
        "        recommended = min(max_classes, current_classes + 1)\n",
        "        recommendations.append(\n",
        "            f\"Excellent GPA! You are on a great path!\\n\"\n",
        "            f\"Recommended classes: {recommended}.\\n\"\n",
        "            f\"Consider exploring more academics or groups outside of courses on campus.\"\n",
        "        )\n",
        "    elif gpa >= 2.5:\n",
        "        recommended = min(max_classes, current_classes)\n",
        "        recommendations.append(\n",
        "            f\"Average GPA. You’re doing well, but remember to stay consistent.\\n\"\n",
        "            f\"Recommended classes: {recommended}.\\n\"\n",
        "            f\"Make sure to manage your time wisely and seek help if needed. \"\n",
        "            f\"Try not to test your luck and stick with the classes you currently have.\"\n",
        "        )\n",
        "    elif gpa >= 2.0:\n",
        "        recommended = max(1, current_classes - 1)\n",
        "        recommendations.append(\n",
        "            f\"Warning: Your GPA is getting low.\\n\"\n",
        "            f\"Recommended classes: {recommended}.\\n\"\n",
        "            f\"Focus on mastering fewer courses, visit tutoring centers, and talk to professors regularly.\"\n",
        "        )\n",
        "    # This is for GPA below the 2.0 threshold. AKA Below C Grade Overall\n",
        "    else:\n",
        "        recommended = max(1, current_classes - 2)\n",
        "        recommendations.append(\n",
        "            f\"Critical Alert: Your GPA is very low.\\n\"\n",
        "            f\"Recommended classes: {recommended}.\\n\"\n",
        "            f\"Consider taking only essential courses, meet with an academic advisor, develop a study plan, \"\n",
        "            f\"attend classes on time, and look through your college’s services and possible tutors.\"\n",
        "        )\n",
        "\n",
        "    # Gives advice depending on the stress level of the user\n",
        "    if stress_level.lower() in ['high', 'very high']:\n",
        "        recommendations.append(\"WARNING: You reported high stress. Consider minimizing workloads, changing schedules and making more time for self reflection or comfort.\")\n",
        "    elif stress_level.lower() == 'low':\n",
        "        recommendations.append(\"Low stress is great! It suggests you may handle your current or slightly increased load well.\")\n",
        "\n",
        "    # Gives advice depending on if the user has a job and their GPA is below perfect.\n",
        "    if gpa < 4.0 and part_time_job.lower() == 'yes':\n",
        "        recommendations.append(\"Since you have a part time job, balance is key. Contact your manager about work hours and be cautious with adding extra classes.\")\n",
        "\n",
        "    return \"\\n\\n\".join(recommendations)\n",
        "\n",
        "\n",
        "# Code to recieve user inputs\n",
        "print(\"Answer a few questions to receive personalized academic advice.\\n\")\n",
        "student_gpa = float(input(\"1. Enter your GPA: \"))\n",
        "student_classes = int(input(\"2. How many classes are you currently taking? \"))\n",
        "stress_level = input(\"3. What is your current stress level? (low / medium / high / very high): \")\n",
        "part_time_job = input(\"4. Do you have a part time job? (yes / no): \")\n",
        "\n",
        "# The Assistant recieves all the data required\n",
        "advice = gpa_advisor(student_gpa, student_classes, stress_level, part_time_job)\n",
        "\n",
        "# Printed results\n",
        "print(\"\\n Advisor's Recommendation:\\n\")\n",
        "print(advice)\n"
      ]
    }
  ]
}
